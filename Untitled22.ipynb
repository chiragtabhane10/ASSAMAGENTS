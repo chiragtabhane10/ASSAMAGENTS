{
 "cells": [
  {
   "cell_type": "code",
   "execution_count": null,
   "id": "2ff025d2-711e-4980-afde-9541e15f3d82",
   "metadata": {},
   "outputs": [],
   "source": [
    "1find the 2nd largest and 2nd smllest element in a list"
   ]
  },
  {
   "cell_type": "code",
   "execution_count": 12,
   "id": "c6e23355-3080-4e68-9941-b7b3d03ddc49",
   "metadata": {},
   "outputs": [
    {
     "name": "stdout",
     "output_type": "stream",
     "text": [
      "{670}\n",
      "{2}\n"
     ]
    }
   ],
   "source": [
    "list={1,2,3,4,5,670,900}\n",
    "second_largest_no={670}\n",
    "second_smallest_no={2}\n",
    "print (second_largest_no)\n",
    "print (second_smallest_no)"
   ]
  },
  {
   "cell_type": "code",
   "execution_count": 51,
   "id": "c731b9f8-5200-421a-9079-eba1d54406d0",
   "metadata": {},
   "outputs": [
    {
     "name": "stdout",
     "output_type": "stream",
     "text": [
      "3455\n"
     ]
    }
   ],
   "source": [
    "# 2. Find the key with the largest value in a dictionary.\n",
    "\n",
    "\n",
    "di= {344:\"1st\",\n",
    "    455:\"2nd \",\n",
    "    3455:\"3r\"}\n",
    "\n",
    "k = di.keys()\n",
    "print(max(k))"
   ]
  },
  {
   "cell_type": "code",
   "execution_count": null,
   "id": "9491d8f8-75d9-4420-b528-213e8fc07bc7",
   "metadata": {},
   "outputs": [],
   "source": [
    "4. Write a recursive function to calculate Fibonacci series up to n terms. \n"
   ]
  }
 ],
 "metadata": {
  "kernelspec": {
   "display_name": "Python 3 (ipykernel)",
   "language": "python",
   "name": "python3"
  },
  "language_info": {
   "codemirror_mode": {
    "name": "ipython",
    "version": 3
   },
   "file_extension": ".py",
   "mimetype": "text/x-python",
   "name": "python",
   "nbconvert_exporter": "python",
   "pygments_lexer": "ipython3",
   "version": "3.13.5"
  }
 },
 "nbformat": 4,
 "nbformat_minor": 5
}
