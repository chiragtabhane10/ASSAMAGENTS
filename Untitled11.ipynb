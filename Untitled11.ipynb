{
 "cells": [
  {
   "cell_type": "code",
   "execution_count": 2,
   "id": "2c4145fb-a100-409f-8d09-a847e769ed35",
   "metadata": {},
   "outputs": [
    {
     "name": "stdout",
     "output_type": "stream",
     "text": [
      "7\n"
     ]
    }
   ],
   "source": [
    "\n",
    "l1 =(3,4,5,5,5,6,7,7,8,8,)\n",
    "\n",
    "\n",
    "s=set(l1)\n",
    "\n",
    "m=list(s)\n",
    "\n",
    "print(m[-2])\n"
   ]
  },
  {
   "cell_type": "code",
   "execution_count": 5,
   "id": "e9385fdd-be2b-4f6f-af02-796999d013b3",
   "metadata": {},
   "outputs": [
    {
     "name": "stdin",
     "output_type": "stream",
     "text": [
      "Enter a  number g\n"
     ]
    },
    {
     "name": "stdout",
     "output_type": "stream",
     "text": [
      "g\n"
     ]
    }
   ],
   "source": [
    "\n",
    "\n",
    "digit =(input(\"Enter a  number\"))\n",
    "descending_order = digit[::-1]\n",
    "print (descending_order)\n",
    "\n"
   ]
  },
  {
   "cell_type": "code",
   "execution_count": 6,
   "id": "ad9206df-c4db-4666-8746-dffc82e8628b",
   "metadata": {},
   "outputs": [
    {
     "name": "stdout",
     "output_type": "stream",
     "text": [
      "a 2b 3j 2b 3"
     ]
    }
   ],
   "source": [
    "s= \"abbjdjba\"\n",
    "print(\"a\",s.count(\"a\"),end =\"\")\n",
    "print(\"b\",s.count(\"b\"),end =\"\")\n",
    "print(\"j\",s.count(\"j\"),end =\"\")\n",
    "print(\"b\",s.count(\"b\"),end =\"\")\n"
   ]
  },
  {
   "cell_type": "code",
   "execution_count": 13,
   "id": "7ecb1550-5213-466c-96db-7e955f38e838",
   "metadata": {},
   "outputs": [
    {
     "name": "stdin",
     "output_type": "stream",
     "text": [
      "enter your string : code\n"
     ]
    },
    {
     "name": "stdout",
     "output_type": "stream",
     "text": [
      "its a balanced string\n",
      "2 2\n"
     ]
    }
   ],
   "source": [
    "strl = input(\"enter your string :\")\n",
    "\n",
    "vowel =\"aeiou\"\n",
    "count =0\n",
    "consonants =0\n",
    "for i in strl:\n",
    "    if i in vowel:\n",
    "        count+=1\n",
    "    else:\n",
    "        consonants+=1\n",
    "if count == consonants:\n",
    "     print(\"its a balanced string\")\n",
    "else:\n",
    "    print(\"not balanced\")\n",
    "\n",
    "print(count, consonants)  "
   ]
  },
  {
   "cell_type": "code",
   "execution_count": null,
   "id": "4bccab5b-d824-471c-8b44-88224022660b",
   "metadata": {},
   "outputs": [],
   "source": []
  }
 ],
 "metadata": {
  "kernelspec": {
   "display_name": "Python 3 (ipykernel)",
   "language": "python",
   "name": "python3"
  },
  "language_info": {
   "codemirror_mode": {
    "name": "ipython",
    "version": 3
   },
   "file_extension": ".py",
   "mimetype": "text/x-python",
   "name": "python",
   "nbconvert_exporter": "python",
   "pygments_lexer": "ipython3",
   "version": "3.13.5"
  }
 },
 "nbformat": 4,
 "nbformat_minor": 5
}
